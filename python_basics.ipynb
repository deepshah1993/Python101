{
 "cells": [
  {
   "cell_type": "markdown",
   "id": "510850d8-5a20-4470-91f3-64115327baeb",
   "metadata": {},
   "source": [
    "# Python 101"
   ]
  },
  {
   "cell_type": "markdown",
   "id": "d1977c03-f074-4237-8ed3-a755ec26ca9c",
   "metadata": {},
   "source": [
    "So you want to learn python... well let's see how it goes\n",
    "\n",
    "## Hello World\n",
    "Like every other tutorial, let's start with a simple hello world script.\n",
    "\n",
    "### Writing Python\n",
    "Unlike most programming languages that use braces to indicate code blocks, Python utilizes indentation. An important thing to note is that spaces and tabs may not be intermixed. It is recommended to change your IDE tab settings to use spaces instead to avoid this."
   ]
  },
  {
   "cell_type": "code",
   "execution_count": null,
   "id": "82e555fb-6f8d-45b5-a8af-9a60ff928092",
   "metadata": {
    "tags": []
   },
   "outputs": [],
   "source": [
    "def hello_world():\n",
    "    print('Hello world!')\n",
    "\n",
    "if __name__ == '__main__':\n",
    "    hello_world()"
   ]
  },
  {
   "cell_type": "markdown",
   "id": "7a97d544-e49c-4757-a9b7-c5d2a172c358",
   "metadata": {},
   "source": [
    "\n",
    "### What just happened?\n",
    "When we run a python file by entering `python <file_name>.py` in the console, <file_name> is scanned top to bottom looking for any top-level executable code (i.e variable assignments, print statements, etc.). Also, there are a few Python internal variables set by the interpreter and one of these is __name__, which is set to main when executing code in <file_name>.py.\n",
    "Inside of the if condition, we call the `hello_world()` function, which is defined right above. Inside of the `()` are where we can pass variables to be used inside of the function. We'll explore that soon.\n",
    "\n",
    "### Why the weirdness?\n",
    "The point of `if __name__ == '__main__':` is to allow code within that block to execute only when called by a Python interpreter rather than as an imported module (as in another file is using the contents of this file). It isn't required but it is good practice to have.\n"
   ]
  },
  {
   "cell_type": "markdown",
   "id": "99fcf5e3",
   "metadata": {},
   "source": [
    "## Programming Basics\n",
    "Before we continue, let's learn a little more about the programming basics. Feel free to go to the next section if you already know this.\n",
    "\n",
    "### Comments\n",
    "Comments are critical to ensure you are writing readable and maintainable code. Not everything needs to be commented but if you feel there is a complex bit of code happening, definitely add a comment. A single line comment can be done by putting a `#` at the start of a line. In addition, there are \"docstrings\" that can be added at the start of functions to describe what the function will do. This can be done by putting either `\"\"\"` or `'''` at the start and end of your docstring. This approach can span multiple lines.\n",
    "\n",
    "### Variables\n",
    "Variables are used to store data in memory that can later be recalled based on the context. There are different data type that variables can be, some unique to individual languages. \n",
    "For Python, the basic data types are:\n",
    "* **Boolean** `bool`: True or False (1 or 0)\n",
    "* **Integers** `int`: whole numbers\n",
    "* **Strings** `str`: text\n",
    "* **Floats** `float`: decimal numbers\n",
    "* **Dictionaries** `dict`: Key-Value Pairs\n",
    "\n",
    "Each programming language handles variables differently, some are \"strictly\" typed while some (like Python) are \"dynamically\" typed. Strict typing means you have to declare a variable as a specific type before using it. Dynamically typed means you do not need to do this. Python has type hints to give the developer an idea of what the variable will contain, but it does not need to be enforced.\n",
    "\n",
    "### Functions\n",
    "Functions are blocks of code stores in memory that can be called by different parts of the code or program with variables, or parameters. In Python, a function is defined using `def` and can return values. These values can even be assigned to a variable.\n"
   ]
  },
  {
   "cell_type": "code",
   "execution_count": 14,
   "id": "46a3eda8",
   "metadata": {
    "tags": []
   },
   "outputs": [
    {
     "name": "stdout",
     "output_type": "stream",
     "text": [
      "5\n"
     ]
    },
    {
     "data": {
      "text/plain": [
       "3"
      ]
     },
     "execution_count": 14,
     "metadata": {},
     "output_type": "execute_result"
    }
   ],
   "source": [
    "def function_that_adds_and_prints(parameter_1, parameter_2):\n",
    "    \"\"\" This will add 2 variables together and return the sum.\n",
    "        It will also print the sum out.\n",
    "    \"\"\"\n",
    "    sum = parameter_1 + parameter_2\n",
    "    print(f'Sum inside of function_that_adds_and_prints: {sum}')\n",
    "    return sum\n",
    "\n",
    "def function_that_adds(number_1, number_2):\n",
    "    # Add and return 2 numbers without assigning it to a varaible\n",
    "    return number_1 + number_2\n",
    "\n",
    "\n",
    "\n",
    "sum = function_that_adds(2, 3)\n",
    "print(f'Sum from function_that_adds: {sum}')\n",
    "\n",
    "function_that_adds_and_prints(1, 2)"
   ]
  },
  {
   "cell_type": "markdown",
   "id": "3f7e6ae7-fef6-40ae-81ed-33697d60b40e",
   "metadata": {},
   "source": [
    "### Conditional Statements\n",
    "Conditional statements can be thought of as branches in the code. Think \"if this, do this. Else if that, do that. Else, do something else\". In python, these branches correspond to the keywords `if`, `elif`, and `else`. The `if` and `elif` keywords need logical statements to determine if the code should enter that branch.\n",
    "\n",
    "#### Logical Operators\n",
    "Logical operators can be used to determine if something is True or False. There are a couple logical operators we will not cover just yet as well\n",
    "* `==` : Equal to\n",
    "* `!=` : Not Equal to\n",
    "* `<` : Less than\n",
    "* `<=` : Less than or Equal to\n",
    "* `>` : Greater Than\n",
    "* `>=` : Greater Than or Equal To"
   ]
  },
  {
   "cell_type": "code",
   "execution_count": 5,
   "id": "bdc6ec53",
   "metadata": {},
   "outputs": [
    {
     "name": "stdout",
     "output_type": "stream",
     "text": [
      "1 is neither equal to or greater than 2\n",
      "2 is greater than 1\n",
      "1 is equal to 1\n"
     ]
    }
   ],
   "source": [
    "a = 1\n",
    "b = 2\n",
    "\n",
    "def compare_variables(variable_1, variable_2):\n",
    "    if variable_1 == variable_2:\n",
    "        print(f'{variable_1} is equal to {variable_2}')\n",
    "    elif variable_1 > variable_2:\n",
    "        print(f'{variable_1} is greater than {variable_2}')\n",
    "    else:\n",
    "        print(f'{variable_1} is neither equal to or greater than {variable_2}')\n",
    "\n",
    "compare_variables(a, a)\n",
    "compare_variables(a, b)\n",
    "compare_variables(b, a)"
   ]
  },
  {
   "cell_type": "markdown",
   "id": "1013f65a",
   "metadata": {},
   "source": [
    "### Loops\n",
    "Loops are another essential part of programming. They do exactly what you would expect them to -- loop through a block of code based on a condition. There are 3 different types of loops in Python: `for` loops, `while` loops, and nested loops. Nested loops are just loops within loops. Not sure why this is considered a third loop type in Python."
   ]
  },
  {
   "cell_type": "code",
   "execution_count": 7,
   "id": "9341e062",
   "metadata": {},
   "outputs": [
    {
     "name": "stdout",
     "output_type": "stream",
     "text": [
      "0\n",
      "1\n",
      "2\n",
      "3\n",
      "4\n",
      "Switching to while loop.\n",
      "4\n",
      "3\n",
      "2\n",
      "1\n"
     ]
    }
   ],
   "source": [
    "# To use a for loop, you have to do for <variable> in <some_list>\n",
    "# Range is a built-in Python method that lets you creates a list from specified start and stop values (0 and 5)\n",
    "# With a step value (1)\n",
    "for x in range(0, 5, 1):\n",
    "    print(x)\n",
    "\n",
    "print('Switching to while loop.')\n",
    "\n",
    "# A while loop will continue executing until the condition specified evaluates to false\n",
    "count = 5\n",
    "while count > 1:\n",
    "    # Starting count at 5, we want to subtract 1 then print the value out. Once count is not greater than 1 anymore, it will stop\n",
    "    count = count - 1\n",
    "    print(count)\n"
   ]
  }
 ],
 "metadata": {
  "kernelspec": {
   "display_name": "Python 3 (ipykernel)",
   "language": "python",
   "name": "python3"
  },
  "language_info": {
   "codemirror_mode": {
    "name": "ipython",
    "version": 3
   },
   "file_extension": ".py",
   "mimetype": "text/x-python",
   "name": "python",
   "nbconvert_exporter": "python",
   "pygments_lexer": "ipython3",
   "version": "3.11.4"
  }
 },
 "nbformat": 4,
 "nbformat_minor": 5
}
