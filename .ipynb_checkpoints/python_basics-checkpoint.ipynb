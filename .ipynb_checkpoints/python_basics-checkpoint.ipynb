{
 "cells": [
  {
   "cell_type": "markdown",
   "id": "510850d8-5a20-4470-91f3-64115327baeb",
   "metadata": {},
   "source": [
    "# Python 101"
   ]
  },
  {
   "cell_type": "markdown",
   "id": "d1977c03-f074-4237-8ed3-a755ec26ca9c",
   "metadata": {},
   "source": [
    "So you want to learn python... well let's see how it goes\n",
    "\n",
    "## Hello World\n",
    "Like every other tutorial, let's start with a simple hello world script.\n",
    "\n",
    "### Writing Python\n",
    "Unlike most programming languages that use braces to indicate code blocks, Python utilizes indentation. An important thing to note is that spaces and tabs may not be intermixed. It is recommended to change your IDE tab settings to use spaces instead to avoid this."
   ]
  },
  {
   "cell_type": "code",
   "execution_count": null,
   "id": "82e555fb-6f8d-45b5-a8af-9a60ff928092",
   "metadata": {
    "tags": []
   },
   "outputs": [],
   "source": [
    "def hello_world():\n",
    "    print('Hello world!')\n",
    "\n",
    "if __name__ == '__main__':\n",
    "    hello_world()"
   ]
  },
  {
   "cell_type": "markdown",
   "id": "7a97d544-e49c-4757-a9b7-c5d2a172c358",
   "metadata": {},
   "source": [
    "\n",
    "### What just happened?\n",
    "When we run a python file by entering `python <file_name>.py` in the console, <file_name> is scanned top to bottom looking for any top-level executable code (i.e variable assignments, print statements, etc.). Also, there are a few Python internal variables set by the interpreter and one of these is __name__, which is set to main when executing code in <file_name>.py.\n",
    "Inside of the if condition, we call the `hello_world()` function, which is defined right above. Inside of the `()` are where we can pass variables to be used inside of the function. We'll explore that soon.\n",
    "\n",
    "### Why the weirdness?\n",
    "The point of `if __name__ == '__main__':` is to allow code within that block to execute only when called by a Python interpreter rather than as an imported module (as in another file is using the contents of this file). \n"
   ]
  },
  {
   "cell_type": "markdown",
   "id": "99fcf5e3",
   "metadata": {},
   "source": [
    "## Programming Basics\n",
    "Before we continue, let's learn a little more about the programming basics. Feel free to go to the next section if you already know this.\n",
    "\n",
    "### Variables\n",
    "Variables are used to store data in memory that can later be recalled based on the context. There are different data type that variables can be, some unique to individual languages. \n",
    "For Python, the basic data types are:\n",
    "* **Integers** `int`: whole numbers\n",
    "* **Strings** `str`: text\n",
    "* **Floats** `float`: decimal numbers\n",
    "* **Dictionaries** `dict`: Key-Value Pairs\n",
    "\n",
    "Each programming language handles variables differently, some are \"strictly\" typed while some (like Python) are \"dynamically\" typed. Strict typing means you have to declare a variable as a specific type before using it. Dynamically typed means you do not need to do this. Python has type hints to give the developer an idea of what the variable will contain, but it does not need to be enforced.\n",
    "\n",
    "### Functions\n",
    "Functions are blocks of code stores in memory that can be called by different parts of the code or program with variables, or parameters. In Python, a function is defined using `def`and can return values.\n"
   ]
  },
  {
   "cell_type": "code",
   "execution_count": 1,
   "id": "46a3eda8",
   "metadata": {
    "tags": []
   },
   "outputs": [
    {
     "name": "stdout",
     "output_type": "stream",
     "text": [
      "3\n"
     ]
    }
   ],
   "source": [
    "def function_that_adds(parameter_1, parameter_2):\n",
    "    sum = parameter_1 + parameter_2\n",
    "    print(sum)\n",
    "    return sum\n",
    "\n",
    "if __name__ == '__main__':\n",
    "    function_that_adds(1, 2)"
   ]
  },
  {
   "cell_type": "markdown",
   "id": "3f7e6ae7-fef6-40ae-81ed-33697d60b40e",
   "metadata": {},
   "source": [
    "### Conditional Statements\n",
    "\n",
    "### Loop"
   ]
  }
 ],
 "metadata": {
  "kernelspec": {
   "display_name": "Python 3 (ipykernel)",
   "language": "python",
   "name": "python3"
  },
  "language_info": {
   "codemirror_mode": {
    "name": "ipython",
    "version": 3
   },
   "file_extension": ".py",
   "mimetype": "text/x-python",
   "name": "python",
   "nbconvert_exporter": "python",
   "pygments_lexer": "ipython3",
   "version": "3.11.4"
  }
 },
 "nbformat": 4,
 "nbformat_minor": 5
}
